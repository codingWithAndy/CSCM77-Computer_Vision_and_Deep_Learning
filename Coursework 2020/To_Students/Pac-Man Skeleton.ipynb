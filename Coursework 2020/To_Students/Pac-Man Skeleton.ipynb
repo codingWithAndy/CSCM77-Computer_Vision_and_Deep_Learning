{
 "cells": [
  {
   "cell_type": "markdown",
   "metadata": {},
   "source": [
    "# M77 Coursework: 3D \"Pac-Man\"\n",
    "The following coursework is designed to test multiple components of the module sylabus; including 3D geometry, object detection, feature extraction and image manipulation.\n",
    "\n",
    "Your task is to complete the below skeleton code to play a Pac-Man-esque game in 3D. You are allowed to utilise method discussed in the course, including feature extractors and deep learning approaches.\n",
    "\n",
    "The aim of the coursework is to step through a 3D pointcloud of the old PhD lab at Swansea University. Several large spheres have been placed within the space, it is your job to move through the pointcloud in an automated fashion, detecting the location of the sphere and moving to the predicted 3D location. If you land close enough to a sphere it will be captured and removed from the pointcloud. \n",
    "\n",
    "You will need to decide what kinds of feature you want to use, extract these features and train a classifier to detect the spheres within an image. You can then use the functionality provided in the PacMan_functionality.py module to obtain the XYZ coordinates of the pixel you predict to be a sphere.\n"
   ]
  },
  {
   "cell_type": "markdown",
   "metadata": {},
   "source": [
    "## Imports\n",
    "Hre we will do our usual imports. I would recommend numpy, scipy, skimage, matplotlib and sklearn. If you wish to utilise the pointcloud processing toolkit you can do that as described in the handout. We will want to import our PacMan_functionality module as well."
   ]
  },
  {
   "cell_type": "code",
   "execution_count": null,
   "metadata": {},
   "outputs": [],
   "source": []
  },
  {
   "cell_type": "markdown",
   "metadata": {},
   "source": [
    "## Game setup.\n",
    "This cell will initialise the game world and add all of our spheres to the world. Do not edit the code here."
   ]
  },
  {
   "cell_type": "code",
   "execution_count": null,
   "metadata": {},
   "outputs": [],
   "source": [
    "# Call startup_scene() to load the initial game scene\n",
    "global_cloud, spheres_collected = PacMan.startup_scene()"
   ]
  },
  {
   "cell_type": "code",
   "execution_count": null,
   "metadata": {},
   "outputs": [],
   "source": [
    "# View our pointcloud if we want\n",
    "# v = pptk.viewer(global_cloud['Positions'], global_cloud['Colors']/255) # Fast, requires pptk\n",
    "# PacMan.show_point_cloud(global_cloud) # Slow, requires matplotlib"
   ]
  },
  {
   "cell_type": "markdown",
   "metadata": {},
   "source": [
    "## Load the training data: Positives and Negatives\n",
    "In the handout zip file there is a directory which contains numerous patches extracted from sample images. These patches are labelled as either containing a sphere or not. You may wish to use these to train a classifier for sphere detection."
   ]
  },
  {
   "cell_type": "code",
   "execution_count": null,
   "metadata": {
    "scrolled": true
   },
   "outputs": [],
   "source": [
    "# Get the training samples for both positive and negative patches\n",
    "    \n",
    "# Concatenate the patches into a 4D numpy array (S*H*W*C), and create a label vector (S)"
   ]
  },
  {
   "cell_type": "markdown",
   "metadata": {},
   "source": [
    "## Train a classifier on the samples, this may require feature extraction on the patches\n",
    "Depending on your desired apporach you may want to extract features on the training patches you have been given. These can then be used to train our desired classifier to detect the patches based not on the raw data, but on a representative feature descriptor. Several are talked about both in the lectures and labs. "
   ]
  },
  {
   "cell_type": "code",
   "execution_count": null,
   "metadata": {},
   "outputs": [],
   "source": [
    "# Extract the features - maybe, might not be needed with representation learning approaches"
   ]
  },
  {
   "cell_type": "code",
   "execution_count": null,
   "metadata": {},
   "outputs": [],
   "source": [
    "# Train a classification model to perform binary classification of the patch into whether it contains a sphere."
   ]
  },
  {
   "cell_type": "markdown",
   "metadata": {},
   "source": [
    "## Initialise our starting point in the game and get our first view into the scene\n",
    "We should start the game at a position of XYZ = [0, 0, 0] and a camera angle of [0, 0, 0]. These variables can be updated once we find a sphere, or rotated when we don't find a sphere. We can then get our first image projected to the camera plane to start our game. "
   ]
  },
  {
   "cell_type": "code",
   "execution_count": null,
   "metadata": {},
   "outputs": [],
   "source": [
    "# Initialise position and angle variable \n",
    "position = np.zeros([3])\n",
    "angle = np.zeros([3])"
   ]
  },
  {
   "cell_type": "code",
   "execution_count": null,
   "metadata": {},
   "outputs": [],
   "source": [
    "# Get the image, XYZ maps and depth map of the current viewpoint into the scene"
   ]
  },
  {
   "cell_type": "markdown",
   "metadata": {
    "scrolled": false
   },
   "source": [
    "## Perform our loop, in which we will perform pixel-wise prediction on binary class label and then perform the correct action based on detection of spheres.\n",
    "This will be the main bulk of your implementation, utilising the feature descriptors and trained models from the above cells. In each loop of the program we will want to:\n",
    "-  Get current view into the scene\n",
    "-  Extract patches from the scene\n",
    "-  Extract features on the patches\n",
    "-  Use the pretrained model to obtain class prediction probabilities\n",
    "-  Identify if a sphere has been found in the scene\n",
    "  -  If so, find the mapped XYZ location, move there and update the scene\n",
    "  -  If not, rotate the camera in a bid to find the sphere\n"
   ]
  },
  {
   "cell_type": "code",
   "execution_count": null,
   "metadata": {
    "scrolled": true
   },
   "outputs": [],
   "source": [
    "while not np.all(spheres_collected): # While there are spheres to find\n",
    "    # Get current image from viewpoint\n",
    "    \n",
    "    # Extract patches from the scene\n",
    "    \n",
    "    # Extract features from the patches\n",
    "    \n",
    "    # Predict the probability of a pixel being a sphere, based on the patch\n",
    "    \n",
    "    # Use probabilities to find sphere coordinates in 3D\n",
    "    \n",
    "    # Update camera appropriately\n",
    "    \n",
    "    # Update scene if needed"
   ]
  }
 ],
 "metadata": {
  "kernelspec": {
   "display_name": "Python 3",
   "language": "python",
   "name": "python3"
  },
  "language_info": {
   "codemirror_mode": {
    "name": "ipython",
    "version": 3
   },
   "file_extension": ".py",
   "mimetype": "text/x-python",
   "name": "python",
   "nbconvert_exporter": "python",
   "pygments_lexer": "ipython3",
   "version": "3.6.5"
  }
 },
 "nbformat": 4,
 "nbformat_minor": 2
}
