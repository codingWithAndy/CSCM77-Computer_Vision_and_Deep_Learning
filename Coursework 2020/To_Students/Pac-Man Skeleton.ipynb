{
 "cells": [
  {
   "cell_type": "markdown",
   "metadata": {},
   "source": [
    "# M77 Coursework: 3D \"Pac-Man\"\n",
    "The following coursework is designed to test multiple components of the module sylabus; including 3D geometry, object detection, feature extraction and image manipulation.\n",
    "\n",
    "Your task is to complete the below skeleton code to play a Pac-Man-esque game in 3D. You are allowed to utilise method discussed in the course, including feature extractors and deep learning approaches.\n",
    "\n",
    "The aim of the coursework is to step through a 3D pointcloud of the old PhD lab at Swansea University. Several large spheres have been placed within the space, it is your job to move through the pointcloud in an automated fashion, detecting the location of the sphere and moving to the predicted 3D location. If you land close enough to a sphere it will be captured and removed from the pointcloud. \n",
    "\n",
    "You will need to decide what kinds of feature you want to use, extract these features and train a classifier to detect the spheres within an image. You can then use the functionality provided in the PacMan_functionality.py module to obtain the XYZ coordinates of the pixel you predict to be a sphere.\n"
   ]
  },
  {
   "cell_type": "markdown",
   "metadata": {},
   "source": [
    "## Imports\n",
    "Hre we will do our usual imports. I would recommend numpy, scipy, skimage, matplotlib and sklearn. If you wish to utilise the pointcloud processing toolkit you can do that as described in the handout. We will want to import our PacMan_functionality module as well."
   ]
  },
  {
   "cell_type": "code",
   "execution_count": 7,
   "metadata": {},
   "outputs": [],
   "source": [
    "import PacMan_functionality as PacMan\n",
    "import numpy as np\n",
    "import matplotlib.pyplot as plt\n",
    "import pptk\n",
    "\n",
    "# For operating-system tools and file-finding\n",
    "import os\n",
    "import glob\n",
    "\n",
    "# For resizing images\n",
    "import skimage\n",
    "import skimage.transform"
   ]
  },
  {
   "cell_type": "markdown",
   "metadata": {},
   "source": [
    "## Game setup.\n",
    "This cell will initialise the game world and add all of our spheres to the world. Do not edit the code here."
   ]
  },
  {
   "cell_type": "code",
   "execution_count": 6,
   "metadata": {},
   "outputs": [],
   "source": [
    "# Call startup_scene() to load the initial game scene\n",
    "global_cloud, spheres_collected = PacMan.startup_scene()"
   ]
  },
  {
   "cell_type": "code",
   "execution_count": 7,
   "metadata": {},
   "outputs": [],
   "source": [
    "# View our pointcloud if we want\n",
    "v = pptk.viewer(global_cloud['Positions'], global_cloud['Colors']/255) # Fast, requires pptk\n",
    "PacMan.show_point_cloud(global_cloud) # Slow, requires matplotlib"
   ]
  },
  {
   "cell_type": "markdown",
   "metadata": {},
   "source": [
    "## Load the training data: Positives and Negatives\n",
    "In the handout zip file there is a directory which contains numerous patches extracted from sample images. These patches are labelled as either containing a sphere or not. You may wish to use these to train a classifier for sphere detection."
   ]
  },
  {
   "cell_type": "code",
   "execution_count": 8,
   "metadata": {
    "scrolled": true
   },
   "outputs": [
    {
     "output_type": "error",
     "ename": "ValueError",
     "evalue": "invalid literal for int() with base 10: '_8'",
     "traceback": [
      "\u001b[0;31m---------------------------------------------------------------------------\u001b[0m",
      "\u001b[0;31mValueError\u001b[0m                                Traceback (most recent call last)",
      "\u001b[0;32m<ipython-input-8-dd6a29ff9d48>\u001b[0m in \u001b[0;36m<module>\u001b[0;34m\u001b[0m\n\u001b[1;32m     13\u001b[0m \u001b[0mnegative_path_to_data\u001b[0m \u001b[0;34m=\u001b[0m \u001b[0mos\u001b[0m\u001b[0;34m.\u001b[0m\u001b[0mgetcwd\u001b[0m\u001b[0;34m(\u001b[0m\u001b[0;34m)\u001b[0m  \u001b[0;34m+\u001b[0m \u001b[0;34m\"/TrainingImages/negatives\"\u001b[0m \u001b[0;31m# Edit this if data is another directory\u001b[0m\u001b[0;34m\u001b[0m\u001b[0;34m\u001b[0m\u001b[0m\n\u001b[1;32m     14\u001b[0m \u001b[0mnegative_data_files\u001b[0m \u001b[0;34m=\u001b[0m \u001b[0mglob\u001b[0m\u001b[0;34m.\u001b[0m\u001b[0mglob\u001b[0m\u001b[0;34m(\u001b[0m\u001b[0mnegative_path_to_data\u001b[0m \u001b[0;34m+\u001b[0m \u001b[0;34m\"/negativePatch_*.jpg\"\u001b[0m\u001b[0;34m)\u001b[0m \u001b[0;31m# Change this to collect from saved images.\u001b[0m\u001b[0;34m\u001b[0m\u001b[0;34m\u001b[0m\u001b[0m\n\u001b[0;32m---> 15\u001b[0;31m \u001b[0mnegative_n_frames\u001b[0m \u001b[0;34m=\u001b[0m \u001b[0mnp\u001b[0m\u001b[0;34m.\u001b[0m\u001b[0mmax\u001b[0m\u001b[0;34m(\u001b[0m\u001b[0;34m[\u001b[0m\u001b[0mint\u001b[0m\u001b[0;34m(\u001b[0m\u001b[0melem\u001b[0m\u001b[0;34m[\u001b[0m\u001b[0;34m-\u001b[0m\u001b[0;36m6\u001b[0m\u001b[0;34m:\u001b[0m\u001b[0;34m-\u001b[0m\u001b[0;36m4\u001b[0m\u001b[0;34m]\u001b[0m\u001b[0;34m)\u001b[0m \u001b[0;32mfor\u001b[0m \u001b[0melem\u001b[0m \u001b[0;32min\u001b[0m \u001b[0mnegative_data_files\u001b[0m\u001b[0;34m]\u001b[0m\u001b[0;34m)\u001b[0m \u001b[0;34m+\u001b[0m \u001b[0;36m1\u001b[0m\u001b[0;34m\u001b[0m\u001b[0;34m\u001b[0m\u001b[0m\n\u001b[0m\u001b[1;32m     16\u001b[0m \u001b[0;34m\u001b[0m\u001b[0m\n\u001b[1;32m     17\u001b[0m \u001b[0;31m# Positives\u001b[0m\u001b[0;34m\u001b[0m\u001b[0;34m\u001b[0m\u001b[0;34m\u001b[0m\u001b[0m\n",
      "\u001b[0;32m<ipython-input-8-dd6a29ff9d48>\u001b[0m in \u001b[0;36m<listcomp>\u001b[0;34m(.0)\u001b[0m\n\u001b[1;32m     13\u001b[0m \u001b[0mnegative_path_to_data\u001b[0m \u001b[0;34m=\u001b[0m \u001b[0mos\u001b[0m\u001b[0;34m.\u001b[0m\u001b[0mgetcwd\u001b[0m\u001b[0;34m(\u001b[0m\u001b[0;34m)\u001b[0m  \u001b[0;34m+\u001b[0m \u001b[0;34m\"/TrainingImages/negatives\"\u001b[0m \u001b[0;31m# Edit this if data is another directory\u001b[0m\u001b[0;34m\u001b[0m\u001b[0;34m\u001b[0m\u001b[0m\n\u001b[1;32m     14\u001b[0m \u001b[0mnegative_data_files\u001b[0m \u001b[0;34m=\u001b[0m \u001b[0mglob\u001b[0m\u001b[0;34m.\u001b[0m\u001b[0mglob\u001b[0m\u001b[0;34m(\u001b[0m\u001b[0mnegative_path_to_data\u001b[0m \u001b[0;34m+\u001b[0m \u001b[0;34m\"/negativePatch_*.jpg\"\u001b[0m\u001b[0;34m)\u001b[0m \u001b[0;31m# Change this to collect from saved images.\u001b[0m\u001b[0;34m\u001b[0m\u001b[0;34m\u001b[0m\u001b[0m\n\u001b[0;32m---> 15\u001b[0;31m \u001b[0mnegative_n_frames\u001b[0m \u001b[0;34m=\u001b[0m \u001b[0mnp\u001b[0m\u001b[0;34m.\u001b[0m\u001b[0mmax\u001b[0m\u001b[0;34m(\u001b[0m\u001b[0;34m[\u001b[0m\u001b[0mint\u001b[0m\u001b[0;34m(\u001b[0m\u001b[0melem\u001b[0m\u001b[0;34m[\u001b[0m\u001b[0;34m-\u001b[0m\u001b[0;36m6\u001b[0m\u001b[0;34m:\u001b[0m\u001b[0;34m-\u001b[0m\u001b[0;36m4\u001b[0m\u001b[0;34m]\u001b[0m\u001b[0;34m)\u001b[0m \u001b[0;32mfor\u001b[0m \u001b[0melem\u001b[0m \u001b[0;32min\u001b[0m \u001b[0mnegative_data_files\u001b[0m\u001b[0;34m]\u001b[0m\u001b[0;34m)\u001b[0m \u001b[0;34m+\u001b[0m \u001b[0;36m1\u001b[0m\u001b[0;34m\u001b[0m\u001b[0;34m\u001b[0m\u001b[0m\n\u001b[0m\u001b[1;32m     16\u001b[0m \u001b[0;34m\u001b[0m\u001b[0m\n\u001b[1;32m     17\u001b[0m \u001b[0;31m# Positives\u001b[0m\u001b[0;34m\u001b[0m\u001b[0;34m\u001b[0m\u001b[0;34m\u001b[0m\u001b[0m\n",
      "\u001b[0;31mValueError\u001b[0m: invalid literal for int() with base 10: '_8'"
     ]
    }
   ],
   "source": [
    "# Get the training samples for both positive and negative patches\n",
    "\n",
    "# Placeholders for the information from disk\n",
    "img = []\n",
    "dep = []\n",
    "infra = []\n",
    "\n",
    "neg_img = []\n",
    "neg_dep = []\n",
    "neg_infra = []\n",
    "\n",
    "# Negatives\n",
    "negative_path_to_data = os.getcwd()  + \"/TrainingImages/negatives\" # Edit this if data is another directory\n",
    "negative_data_files = glob.glob(negative_path_to_data + \"/negativePatch_*.jpg\") # Change this to collect from saved images.\n",
    "negative_n_frames = np.max([int(elem[-6:-4]) for elem in negative_data_files]) + 1\n",
    "\n",
    "# Positives\n",
    "positive_path_to_data = os.getcwd()  + \"/TrainingImages/positives\" # Edit this if data is another directory\n",
    "positive_data_files = glob.globpositive_(path_to_data + \"/positivePatch_*.jpg\") # Change this to collect from saved images.\n",
    "positive_n_frames = np.max([int(elem[-6:-4]) for elem in positive_data_files]) + 1\n",
    "\n",
    "\n",
    "\n",
    "'''\n",
    "for i_frame in range(positive_n_frames):\n",
    "    print(\"Getting frame: {0}\".format(i_frame))\n",
    "    img.append(np.load(positive_path_to_data + \"/positivePatch_{0:02d}.jpg\".format(i_frame)))\n",
    "    dep.append(np.load(positive_path_to_data + \"/positivePatch_{0:02d}.jpg\".format(i_frame)))\n",
    "    infra.append(np.load(positive_path_to_data + \"/positivePatch_{0:02d}.jpg\".format(i_frame)))\n",
    "\n",
    "for i_frame in range(negative_n_frames):\n",
    "    print(\"Getting frame: {0}\".format(i_frame))\n",
    "    neg_img.append(np.load(negative_path_to_data + \"/negativePatch_{0:02d}.jpg\".format(i_frame)))\n",
    "    neg_dep.append(np.load(negative_path_to_data + \"/negativePatch_{0:02d}.jpg\".format(i_frame)))\n",
    "    neg_infra.append(np.load(negative_path_to_data + \"/negativePatch_{0:02d}.jpg\".format(i_frame)))\n",
    "\n",
    "\n",
    "print(\"Finished grabbing data from disk.\")\n",
    "'''\n",
    "'''\n",
    "IMGW = 1920\n",
    "IMGpositive_H = 1080\n",
    "DEPW = 512\n",
    "DEPH = 424\n",
    "    \n",
    "INFRAW = DEPW\n",
    "INFRAH = DEPH\n",
    "\n",
    "img = [np.reshape(elem,(IMGH, IMGWpositivePatch_m in img]\n",
    "dep = [np.reshape(elem,(DEPH, DEPW)) for elem in dep]\n",
    "infra =positivePatch_lem,(INFRAH, INFRAW)) for elem in infra]\n",
    "\n",
    "img = [np.reshape(elem,(IMGH, IpositivePatch_n img]\n",
    "dep = [np.reshape(elem,(DEPH, DE aPW)) for elem in dep]\n",
    "infra = [np.reshape(elem,(INFRAH, INFRAW)) for elem in infra]\n",
    "'''\n",
    "\n",
    "# Concatenate the patches into a 4D numpy array (S*H*W*C.jpgnd create a label vector (S).jpg.jpg"
   ]
  },
  {
   "cell_type": "code",
   "execution_count": 13,
   "metadata": {
    "tags": [
     "outputPrepend",
     "outputPrepend",
     "outputPrepend",
     "outputPrepend",
     "outputPrepend",
     "outputPrepend"
    ]
   },
   "outputs": [
    {
     "output_type": "stream",
     "name": "stdout",
     "text": "g (51, 51, 3)\n> loaded negativePatch_514.jpg (51, 51, 3)\n> loaded negativePatch_1030.jpg (51, 51, 3)\n> loaded negativePatch_1756.jpg (51, 51, 3)\n> loaded negativePatch_272.jpg (51, 51, 3)\n> loaded negativePatch_266.jpg (51, 51, 3)\n> loaded negativePatch_1742.jpg (51, 51, 3)\n> loaded negativePatch_1024.jpg (51, 51, 3)\n> loaded negativePatch_500.jpg (51, 51, 3)\n> loaded negativePatch_2505.jpg (51, 51, 3)\n> loaded negativePatch_528.jpg (51, 51, 3)\n> loaded negativePatch_2263.jpg (51, 51, 3)\n> loaded negativePatch_2277.jpg (51, 51, 3)\n> loaded negativePatch_2511.jpg (51, 51, 3)\n> loaded negativePatch_1018.jpg (51, 51, 3)\n> loaded negativePatch_1795.jpg (51, 51, 3)\n> loaded negativePatch_1959.jpg (51, 51, 3)\n> loaded negativePatch_1781.jpg (51, 51, 3)\n> loaded negativePatch_2288.jpg (51, 51, 3)\n> loaded negativePatch_1971.jpg (51, 51, 3)\n> loaded negativePatch_299.jpg (51, 51, 3)\n> loaded negativePatch_1965.jpg (51, 51, 3)\n> loaded negativePatch_1554.jpg (51, 51, 3)\n> loaded negativePatch_1232.jpg (51, 51, 3)\n> loaded negativePatch_716.jpg (51, 51, 3)\n> loaded negativePatch_702.jpg (51, 51, 3)\n> loaded negativePatch_1226.jpg (51, 51, 3)\n> loaded negativePatch_1540.jpg (51, 51, 3)\n> loaded negativePatch_2049.jpg (51, 51, 3)\n> loaded negativePatch_1568.jpg (51, 51, 3)\n> loaded negativePatch_2061.jpg (51, 51, 3)\n> loaded negativePatch_2075.jpg (51, 51, 3)\n> loaded negativePatch_1597.jpg (51, 51, 3)\n> loaded negativePatch_919.jpg (51, 51, 3)\n> loaded negativePatch_1583.jpg (51, 51, 3)\n> loaded negativePatch_931.jpg (51, 51, 3)\n> loaded negativePatch_925.jpg (51, 51, 3)\n> loaded negativePatch_104.jpg (51, 51, 3)\n> loaded negativePatch_2129.jpg (51, 51, 3)\n> loaded negativePatch_1420.jpg (51, 51, 3)\n> loaded negativePatch_1346.jpg (51, 51, 3)\n> loaded negativePatch_662.jpg (51, 51, 3)\n> loaded negativePatch_676.jpg (51, 51, 3)\n> loaded negativePatch_1352.jpg (51, 51, 3)\n> loaded negativePatch_1434.jpg (51, 51, 3)\n> loaded negativePatch_110.jpg (51, 51, 3)\n> loaded negativePatch_138.jpg (51, 51, 3)\n> loaded negativePatch_2115.jpg (51, 51, 3)\n> loaded negativePatch_886.jpg (51, 51, 3)\n> loaded negativePatch_892.jpg (51, 51, 3)\n> loaded negativePatch_2101.jpg (51, 51, 3)\n> loaded negativePatch_1408.jpg (51, 51, 3)\n> loaded negativePatch_879.jpg (51, 51, 3)\n> loaded negativePatch_1385.jpg (51, 51, 3)\n> loaded negativePatch_1391.jpg (51, 51, 3)\n> loaded negativePatch_17.jpg (51, 51, 3)\n> loaded negativePatch_845.jpg (51, 51, 3)\n> loaded negativePatch_689.jpg (51, 51, 3)\n> loaded negativePatch_851.jpg (51, 51, 3)\n> loaded negativePatch_460.jpg (51, 51, 3)\n> loaded negativePatch_1144.jpg (51, 51, 3)\n> loaded negativePatch_1622.jpg (51, 51, 3)\n> loaded negativePatch_306.jpg (51, 51, 3)\n> loaded negativePatch_312.jpg (51, 51, 3)\n> loaded negativePatch_1636.jpg (51, 51, 3)\n> loaded negativePatch_1150.jpg (51, 51, 3)\n> loaded negativePatch_474.jpg (51, 51, 3)\n> loaded negativePatch_2459.jpg (51, 51, 3)\n> loaded negativePatch_1178.jpg (51, 51, 3)\n> loaded negativePatch_2471.jpg (51, 51, 3)\n> loaded negativePatch_2317.jpg (51, 51, 3)\n> loaded negativePatch_2303.jpg (51, 51, 3)\n> loaded negativePatch_448.jpg (51, 51, 3)\n> loaded negativePatch_2465.jpg (51, 51, 3)\n> loaded negativePatch_1187.jpg (51, 51, 3)\n> loaded negativePatch_1839.jpg (51, 51, 3)\n> loaded negativePatch_1193.jpg (51, 51, 3)\n> loaded negativePatch_1805.jpg (51, 51, 3)\n> loaded negativePatch_1811.jpg (51, 51, 3)\n> loaded negativePatch_1810.jpg (51, 51, 3)\n> loaded negativePatch_1804.jpg (51, 51, 3)\n> loaded negativePatch_1192.jpg (51, 51, 3)\n> loaded negativePatch_1186.jpg (51, 51, 3)\n> loaded negativePatch_1838.jpg (51, 51, 3)\n> loaded negativePatch_2302.jpg (51, 51, 3)\n> loaded negativePatch_2464.jpg (51, 51, 3)\n> loaded negativePatch_449.jpg (51, 51, 3)\n> loaded negativePatch_2470.jpg (51, 51, 3)\n> loaded negativePatch_1179.jpg (51, 51, 3)\n> loaded negativePatch_2316.jpg (51, 51, 3)\n> loaded negativePatch_1637.jpg (51, 51, 3)\n> loaded negativePatch_313.jpg (51, 51, 3)\n> loaded negativePatch_2458.jpg (51, 51, 3)\n> loaded negativePatch_475.jpg (51, 51, 3)\n> loaded negativePatch_1151.jpg (51, 51, 3)\n> loaded negativePatch_1145.jpg (51, 51, 3)\n> loaded negativePatch_461.jpg (51, 51, 3)\n> loaded negativePatch_307.jpg (51, 51, 3)\n> loaded negativePatch_1623.jpg (51, 51, 3)\n> loaded negativePatch_850.jpg (51, 51, 3)\n> loaded negativePatch_688.jpg (51, 51, 3)\n> loaded negativePatch_844.jpg (51, 51, 3)\n> loaded negativePatch_1390.jpg (51, 51, 3)\n> loaded negativePatch_16.jpg (51, 51, 3)\n> loaded negativePatch_1384.jpg (51, 51, 3)\n> loaded negativePatch_878.jpg (51, 51, 3)\n> loaded negativePatch_893.jpg (51, 51, 3)\n> loaded negativePatch_1409.jpg (51, 51, 3)\n> loaded negativePatch_2100.jpg (51, 51, 3)\n> loaded negativePatch_2114.jpg (51, 51, 3)\n> loaded negativePatch_139.jpg (51, 51, 3)\n> loaded negativePatch_887.jpg (51, 51, 3)\n> loaded negativePatch_1353.jpg (51, 51, 3)\n> loaded negativePatch_677.jpg (51, 51, 3)\n> loaded negativePatch_111.jpg (51, 51, 3)\n> loaded negativePatch_1435.jpg (51, 51, 3)\n> loaded negativePatch_1421.jpg (51, 51, 3)\n> loaded negativePatch_2128.jpg (51, 51, 3)\n> loaded negativePatch_105.jpg (51, 51, 3)\n> loaded negativePatch_663.jpg (51, 51, 3)\n> loaded negativePatch_1347.jpg (51, 51, 3)\n> loaded negativePatch_924.jpg (51, 51, 3)\n> loaded negativePatch_930.jpg (51, 51, 3)\n> loaded negativePatch_918.jpg (51, 51, 3)\n> loaded negativePatch_1582.jpg (51, 51, 3)\n> loaded negativePatch_1596.jpg (51, 51, 3)\n> loaded negativePatch_2074.jpg (51, 51, 3)\n> loaded negativePatch_2060.jpg (51, 51, 3)\n> loaded negativePatch_1569.jpg (51, 51, 3)\n> loaded negativePatch_1227.jpg (51, 51, 3)\n> loaded negativePatch_703.jpg (51, 51, 3)\n> loaded negativePatch_2048.jpg (51, 51, 3)\n> loaded negativePatch_1541.jpg (51, 51, 3)\n> loaded negativePatch_1555.jpg (51, 51, 3)\n> loaded negativePatch_717.jpg (51, 51, 3)\n> loaded negativePatch_1233.jpg (51, 51, 3)\n> loaded negativePatch_1964.jpg (51, 51, 3)\n> loaded negativePatch_298.jpg (51, 51, 3)\n> loaded negativePatch_1970.jpg (51, 51, 3)\n> loaded negativePatch_2289.jpg (51, 51, 3)\n> loaded negativePatch_1780.jpg (51, 51, 3)\n> loaded negativePatch_1958.jpg (51, 51, 3)\n> loaded negativePatch_1794.jpg (51, 51, 3)\n> loaded negativePatch_2276.jpg (51, 51, 3)\n> loaded negativePatch_1019.jpg (51, 51, 3)\n> loaded negativePatch_2510.jpg (51, 51, 3)\n> loaded negativePatch_529.jpg (51, 51, 3)\n> loaded negativePatch_2504.jpg (51, 51, 3)\n> loaded negativePatch_2262.jpg (51, 51, 3)\n> loaded negativePatch_1743.jpg (51, 51, 3)\n> loaded negativePatch_267.jpg (51, 51, 3)\n> loaded negativePatch_501.jpg (51, 51, 3)\n> loaded negativePatch_1025.jpg (51, 51, 3)\n> loaded negativePatch_1031.jpg (51, 51, 3)\n> loaded negativePatch_515.jpg (51, 51, 3)\n> loaded negativePatch_2538.jpg (51, 51, 3)\n> loaded negativePatch_273.jpg (51, 51, 3)\n> loaded negativePatch_1757.jpg (51, 51, 3)\n> loaded positivePatch_24.jpg (51, 51, 3)\n> loaded positivePatch_170.jpg (51, 51, 3)\n> loaded positivePatch_164.jpg (51, 51, 3)\n> loaded positivePatch_30.jpg (51, 51, 3)\n> loaded positivePatch_18.jpg (51, 51, 3)\n> loaded positivePatch_158.jpg (51, 51, 3)\n> loaded positivePatch_206.jpg (51, 51, 3)\n> loaded positivePatch_212.jpg (51, 51, 3)\n> loaded positivePatch_213.jpg (51, 51, 3)\n> loaded positivePatch_207.jpg (51, 51, 3)\n> loaded positivePatch_159.jpg (51, 51, 3)\n> loaded positivePatch_19.jpg (51, 51, 3)\n> loaded positivePatch_165.jpg (51, 51, 3)\n> loaded positivePatch_31.jpg (51, 51, 3)\n> loaded positivePatch_25.jpg (51, 51, 3)\n> loaded positivePatch_171.jpg (51, 51, 3)\n> loaded positivePatch_198.jpg (51, 51, 3)\n> loaded positivePatch_33.jpg (51, 51, 3)\n> loaded positivePatch_167.jpg (51, 51, 3)\n> loaded positivePatch_173.jpg (51, 51, 3)\n> loaded positivePatch_27.jpg (51, 51, 3)\n> loaded positivePatch_211.jpg (51, 51, 3)\n> loaded positivePatch_205.jpg (51, 51, 3)\n> loaded positivePatch_239.jpg (51, 51, 3)\n> loaded positivePatch_238.jpg (51, 51, 3)\n> loaded positivePatch_204.jpg (51, 51, 3)\n> loaded positivePatch_210.jpg (51, 51, 3)\n> loaded positivePatch_172.jpg (51, 51, 3)\n> loaded positivePatch_26.jpg (51, 51, 3)\n> loaded positivePatch_32.jpg (51, 51, 3)\n> loaded positivePatch_166.jpg (51, 51, 3)\n> loaded positivePatch_199.jpg (51, 51, 3)\n> loaded positivePatch_189.jpg (51, 51, 3)\n> loaded positivePatch_162.jpg (51, 51, 3)\n> loaded positivePatch_36.jpg (51, 51, 3)\n> loaded positivePatch_22.jpg (51, 51, 3)\n> loaded positivePatch_176.jpg (51, 51, 3)\n> loaded positivePatch_228.jpg (51, 51, 3)\n> loaded positivePatch_214.jpg (51, 51, 3)\n> loaded positivePatch_200.jpg (51, 51, 3)\n> loaded positivePatch_201.jpg (51, 51, 3)\n> loaded positivePatch_215.jpg (51, 51, 3)\n> loaded positivePatch_229.jpg (51, 51, 3)\n> loaded positivePatch_23.jpg (51, 51, 3)\n> loaded positivePatch_177.jpg (51, 51, 3)\n> loaded positivePatch_163.jpg (51, 51, 3)\n> loaded positivePatch_37.jpg (51, 51, 3)\n> loaded positivePatch_188.jpg (51, 51, 3)\n> loaded positivePatch_149.jpg (51, 51, 3)\n> loaded positivePatch_175.jpg (51, 51, 3)\n> loaded positivePatch_21.jpg (51, 51, 3)\n> loaded positivePatch_35.jpg (51, 51, 3)\n> loaded positivePatch_161.jpg (51, 51, 3)\n> loaded positivePatch_203.jpg (51, 51, 3)\n> loaded positivePatch_217.jpg (51, 51, 3)\n> loaded positivePatch_216.jpg (51, 51, 3)\n> loaded positivePatch_202.jpg (51, 51, 3)\n> loaded positivePatch_34.jpg (51, 51, 3)\n> loaded positivePatch_160.jpg (51, 51, 3)\n> loaded positivePatch_174.jpg (51, 51, 3)\n> loaded positivePatch_20.jpg (51, 51, 3)\n> loaded positivePatch_148.jpg (51, 51, 3)\n> loaded positivePatch_305.jpg (51, 51, 3)\n> loaded positivePatch_84.jpg (51, 51, 3)\n> loaded positivePatch_90.jpg (51, 51, 3)\n> loaded positivePatch_8.jpg (51, 51, 3)\n> loaded positivePatch_113.jpg (51, 51, 3)\n> loaded positivePatch_47.jpg (51, 51, 3)\n> loaded positivePatch_53.jpg (51, 51, 3)\n> loaded positivePatch_107.jpg (51, 51, 3)\n> loaded positivePatch_265.jpg (51, 51, 3)\n> loaded positivePatch_271.jpg (51, 51, 3)\n> loaded positivePatch_259.jpg (51, 51, 3)\n> loaded positivePatch_258.jpg (51, 51, 3)\n> loaded positivePatch_270.jpg (51, 51, 3)\n> loaded positivePatch_264.jpg (51, 51, 3)\n> loaded positivePatch_52.jpg (51, 51, 3)\n> loaded positivePatch_106.jpg (51, 51, 3)\n> loaded positivePatch_9.jpg (51, 51, 3)\n> loaded positivePatch_112.jpg (51, 51, 3)\n> loaded positivePatch_46.jpg (51, 51, 3)\n> loaded positivePatch_91.jpg (51, 51, 3)\n> loaded positivePatch_85.jpg (51, 51, 3)\n> loaded positivePatch_304.jpg (51, 51, 3)\n> loaded positivePatch_306.jpg (51, 51, 3)\n> loaded positivePatch_93.jpg (51, 51, 3)\n> loaded positivePatch_87.jpg (51, 51, 3)\n> loaded positivePatch_104.jpg (51, 51, 3)\n> loaded positivePatch_50.jpg (51, 51, 3)\n> loaded positivePatch_44.jpg (51, 51, 3)\n> loaded positivePatch_110.jpg (51, 51, 3)\n> loaded positivePatch_138.jpg (51, 51, 3)\n> loaded positivePatch_78.jpg (51, 51, 3)\n> loaded positivePatch_299.jpg (51, 51, 3)\n> loaded positivePatch_272.jpg (51, 51, 3)\n> loaded positivePatch_266.jpg (51, 51, 3)\n> loaded positivePatch_267.jpg (51, 51, 3)\n> loaded positivePatch_273.jpg (51, 51, 3)\n> loaded positivePatch_298.jpg (51, 51, 3)\n> loaded positivePatch_79.jpg (51, 51, 3)\n> loaded positivePatch_139.jpg (51, 51, 3)\n> loaded positivePatch_45.jpg (51, 51, 3)\n> loaded positivePatch_111.jpg (51, 51, 3)\n> loaded positivePatch_105.jpg (51, 51, 3)\n> loaded positivePatch_51.jpg (51, 51, 3)\n> loaded positivePatch_86.jpg (51, 51, 3)\n> loaded positivePatch_92.jpg (51, 51, 3)\n> loaded positivePatch_307.jpg (51, 51, 3)\n> loaded positivePatch_303.jpg (51, 51, 3)\n> loaded positivePatch_96.jpg (51, 51, 3)\n> loaded positivePatch_82.jpg (51, 51, 3)\n> loaded positivePatch_69.jpg (51, 51, 3)\n> loaded positivePatch_129.jpg (51, 51, 3)\n> loaded positivePatch_55.jpg (51, 51, 3)\n> loaded positivePatch_101.jpg (51, 51, 3)\n> loaded positivePatch_115.jpg (51, 51, 3)\n> loaded positivePatch_41.jpg (51, 51, 3)\n> loaded positivePatch_288.jpg (51, 51, 3)\n> loaded positivePatch_277.jpg (51, 51, 3)\n> loaded positivePatch_263.jpg (51, 51, 3)\n> loaded positivePatch_262.jpg (51, 51, 3)\n> loaded positivePatch_276.jpg (51, 51, 3)\n> loaded positivePatch_289.jpg (51, 51, 3)\n> loaded positivePatch_114.jpg (51, 51, 3)\n> loaded positivePatch_40.jpg (51, 51, 3)\n> loaded positivePatch_54.jpg (51, 51, 3)\n> loaded positivePatch_100.jpg (51, 51, 3)\n> loaded positivePatch_128.jpg (51, 51, 3)\n> loaded positivePatch_68.jpg (51, 51, 3)\n> loaded positivePatch_83.jpg (51, 51, 3)\n> loaded positivePatch_97.jpg (51, 51, 3)\n> loaded positivePatch_302.jpg (51, 51, 3)\n> loaded positivePatch_300.jpg (51, 51, 3)\n> loaded positivePatch_81.jpg (51, 51, 3)\n> loaded positivePatch_95.jpg (51, 51, 3)\n> loaded positivePatch_42.jpg (51, 51, 3)\n> loaded positivePatch_116.jpg (51, 51, 3)\n> loaded positivePatch_102.jpg (51, 51, 3)\n> loaded positivePatch_56.jpg (51, 51, 3)\n> loaded positivePatch_248.jpg (51, 51, 3)\n> loaded positivePatch_260.jpg (51, 51, 3)\n> loaded positivePatch_274.jpg (51, 51, 3)\n> loaded positivePatch_275.jpg (51, 51, 3)\n> loaded positivePatch_261.jpg (51, 51, 3)\n> loaded positivePatch_249.jpg (51, 51, 3)\n> loaded positivePatch_103.jpg (51, 51, 3)\n> loaded positivePatch_57.jpg (51, 51, 3)\n> loaded positivePatch_43.jpg (51, 51, 3)\n> loaded positivePatch_117.jpg (51, 51, 3)\n> loaded positivePatch_94.jpg (51, 51, 3)\n> loaded positivePatch_80.jpg (51, 51, 3)\n> loaded positivePatch_301.jpg (51, 51, 3)\n> loaded positivePatch_99.jpg (51, 51, 3)\n> loaded positivePatch_66.jpg (51, 51, 3)\n> loaded positivePatch_132.jpg (51, 51, 3)\n> loaded positivePatch_126.jpg (51, 51, 3)\n> loaded positivePatch_72.jpg (51, 51, 3)\n> loaded positivePatch_1.jpg (51, 51, 3)\n> loaded positivePatch_287.jpg (51, 51, 3)\n> loaded positivePatch_293.jpg (51, 51, 3)\n> loaded positivePatch_244.jpg (51, 51, 3)\n> loaded positivePatch_250.jpg (51, 51, 3)\n> loaded positivePatch_278.jpg (51, 51, 3)\n> loaded positivePatch_279.jpg (51, 51, 3)\n> loaded positivePatch_251.jpg (51, 51, 3)\n> loaded positivePatch_245.jpg (51, 51, 3)\n> loaded positivePatch_292.jpg (51, 51, 3)\n> loaded positivePatch_286.jpg (51, 51, 3)\n> loaded positivePatch_127.jpg (51, 51, 3)\n> loaded positivePatch_73.jpg (51, 51, 3)\n> loaded positivePatch_67.jpg (51, 51, 3)\n> loaded positivePatch_133.jpg (51, 51, 3)\n> loaded positivePatch_98.jpg (51, 51, 3)\n> loaded positivePatch_71.jpg (51, 51, 3)\n> loaded positivePatch_125.jpg (51, 51, 3)\n> loaded positivePatch_131.jpg (51, 51, 3)\n> loaded positivePatch_65.jpg (51, 51, 3)\n> loaded positivePatch_2.jpg (51, 51, 3)\n> loaded positivePatch_119.jpg (51, 51, 3)\n> loaded positivePatch_59.jpg (51, 51, 3)\n> loaded positivePatch_290.jpg (51, 51, 3)\n> loaded positivePatch_284.jpg (51, 51, 3)\n> loaded positivePatch_253.jpg (51, 51, 3)\n> loaded positivePatch_247.jpg (51, 51, 3)\n> loaded positivePatch_246.jpg (51, 51, 3)\n> loaded positivePatch_252.jpg (51, 51, 3)\n> loaded positivePatch_285.jpg (51, 51, 3)\n> loaded positivePatch_291.jpg (51, 51, 3)\n> loaded positivePatch_58.jpg (51, 51, 3)\n> loaded positivePatch_3.jpg (51, 51, 3)\n> loaded positivePatch_118.jpg (51, 51, 3)\n> loaded positivePatch_130.jpg (51, 51, 3)\n> loaded positivePatch_64.jpg (51, 51, 3)\n> loaded positivePatch_70.jpg (51, 51, 3)\n> loaded positivePatch_124.jpg (51, 51, 3)\n> loaded positivePatch_48.jpg (51, 51, 3)\n> loaded positivePatch_7.jpg (51, 51, 3)\n> loaded positivePatch_108.jpg (51, 51, 3)\n> loaded positivePatch_120.jpg (51, 51, 3)\n> loaded positivePatch_74.jpg (51, 51, 3)\n> loaded positivePatch_60.jpg (51, 51, 3)\n> loaded positivePatch_134.jpg (51, 51, 3)\n> loaded positivePatch_295.jpg (51, 51, 3)\n> loaded positivePatch_281.jpg (51, 51, 3)\n> loaded positivePatch_256.jpg (51, 51, 3)\n> loaded positivePatch_242.jpg (51, 51, 3)\n> loaded positivePatch_243.jpg (51, 51, 3)\n> loaded positivePatch_257.jpg (51, 51, 3)\n> loaded positivePatch_280.jpg (51, 51, 3)\n> loaded positivePatch_294.jpg (51, 51, 3)\n> loaded positivePatch_61.jpg (51, 51, 3)\n> loaded positivePatch_135.jpg (51, 51, 3)\n> loaded positivePatch_121.jpg (51, 51, 3)\n> loaded positivePatch_75.jpg (51, 51, 3)\n> loaded positivePatch_109.jpg (51, 51, 3)\n> loaded positivePatch_49.jpg (51, 51, 3)\n> loaded positivePatch_6.jpg (51, 51, 3)\n> loaded positivePatch_88.jpg (51, 51, 3)\n> loaded positivePatch_4.jpg (51, 51, 3)\n> loaded positivePatch_137.jpg (51, 51, 3)\n> loaded positivePatch_63.jpg (51, 51, 3)\n> loaded positivePatch_77.jpg (51, 51, 3)\n> loaded positivePatch_123.jpg (51, 51, 3)\n> loaded positivePatch_282.jpg (51, 51, 3)\n> loaded positivePatch_296.jpg (51, 51, 3)\n> loaded positivePatch_269.jpg (51, 51, 3)\n> loaded positivePatch_241.jpg (51, 51, 3)\n> loaded positivePatch_255.jpg (51, 51, 3)\n> loaded positivePatch_254.jpg (51, 51, 3)\n> loaded positivePatch_240.jpg (51, 51, 3)\n> loaded positivePatch_268.jpg (51, 51, 3)\n> loaded positivePatch_297.jpg (51, 51, 3)\n> loaded positivePatch_283.jpg (51, 51, 3)\n> loaded positivePatch_76.jpg (51, 51, 3)\n> loaded positivePatch_122.jpg (51, 51, 3)\n> loaded positivePatch_136.jpg (51, 51, 3)\n> loaded positivePatch_62.jpg (51, 51, 3)\n> loaded positivePatch_5.jpg (51, 51, 3)\n> loaded positivePatch_89.jpg (51, 51, 3)\n> loaded positivePatch_308.jpg (51, 51, 3)\n> loaded positivePatch_192.jpg (51, 51, 3)\n> loaded positivePatch_186.jpg (51, 51, 3)\n> loaded positivePatch_151.jpg (51, 51, 3)\n> loaded positivePatch_11.jpg (51, 51, 3)\n> loaded positivePatch_145.jpg (51, 51, 3)\n> loaded positivePatch_39.jpg (51, 51, 3)\n> loaded positivePatch_179.jpg (51, 51, 3)\n> loaded positivePatch_227.jpg (51, 51, 3)\n> loaded positivePatch_233.jpg (51, 51, 3)\n> loaded positivePatch_232.jpg (51, 51, 3)\n> loaded positivePatch_226.jpg (51, 51, 3)\n> loaded positivePatch_178.jpg (51, 51, 3)\n> loaded positivePatch_38.jpg (51, 51, 3)\n> loaded positivePatch_10.jpg (51, 51, 3)\n> loaded positivePatch_144.jpg (51, 51, 3)\n> loaded positivePatch_150.jpg (51, 51, 3)\n> loaded positivePatch_187.jpg (51, 51, 3)\n> loaded positivePatch_193.jpg (51, 51, 3)\n> loaded positivePatch_185.jpg (51, 51, 3)\n> loaded positivePatch_191.jpg (51, 51, 3)\n> loaded positivePatch_146.jpg (51, 51, 3)\n> loaded positivePatch_12.jpg (51, 51, 3)\n> loaded positivePatch_152.jpg (51, 51, 3)\n> loaded positivePatch_230.jpg (51, 51, 3)\n> loaded positivePatch_224.jpg (51, 51, 3)\n> loaded positivePatch_218.jpg (51, 51, 3)\n> loaded positivePatch_219.jpg (51, 51, 3)\n> loaded positivePatch_225.jpg (51, 51, 3)\n> loaded positivePatch_231.jpg (51, 51, 3)\n> loaded positivePatch_153.jpg (51, 51, 3)\n> loaded positivePatch_147.jpg (51, 51, 3)\n> loaded positivePatch_13.jpg (51, 51, 3)\n> loaded positivePatch_190.jpg (51, 51, 3)\n> loaded positivePatch_184.jpg (51, 51, 3)\n> loaded positivePatch_180.jpg (51, 51, 3)\n> loaded positivePatch_194.jpg (51, 51, 3)\n> loaded positivePatch_17.jpg (51, 51, 3)\n> loaded positivePatch_143.jpg (51, 51, 3)\n> loaded positivePatch_157.jpg (51, 51, 3)\n> loaded positivePatch_209.jpg (51, 51, 3)\n> loaded positivePatch_235.jpg (51, 51, 3)\n> loaded positivePatch_221.jpg (51, 51, 3)\n> loaded positivePatch_220.jpg (51, 51, 3)\n> loaded positivePatch_234.jpg (51, 51, 3)\n> loaded positivePatch_208.jpg (51, 51, 3)\n> loaded positivePatch_156.jpg (51, 51, 3)\n> loaded positivePatch_16.jpg (51, 51, 3)\n> loaded positivePatch_142.jpg (51, 51, 3)\n> loaded positivePatch_195.jpg (51, 51, 3)\n> loaded positivePatch_181.jpg (51, 51, 3)\n> loaded positivePatch_197.jpg (51, 51, 3)\n> loaded positivePatch_183.jpg (51, 51, 3)\n> loaded positivePatch_168.jpg (51, 51, 3)\n> loaded positivePatch_28.jpg (51, 51, 3)\n> loaded positivePatch_154.jpg (51, 51, 3)\n> loaded positivePatch_140.jpg (51, 51, 3)\n> loaded positivePatch_14.jpg (51, 51, 3)\n> loaded positivePatch_222.jpg (51, 51, 3)\n> loaded positivePatch_236.jpg (51, 51, 3)\n> loaded positivePatch_237.jpg (51, 51, 3)\n> loaded positivePatch_223.jpg (51, 51, 3)\n> loaded positivePatch_141.jpg (51, 51, 3)\n> loaded positivePatch_15.jpg (51, 51, 3)\n> loaded positivePatch_155.jpg (51, 51, 3)\n> loaded positivePatch_29.jpg (51, 51, 3)\n> loaded positivePatch_169.jpg (51, 51, 3)\n> loaded positivePatch_182.jpg (51, 51, 3)\n> loaded positivePatch_196.jpg (51, 51, 3)\n"
    }
   ],
   "source": [
    "from os import listdir\n",
    "from matplotlib import image\n",
    "\n",
    "# load all images in a directory\n",
    "neg_loaded_images = list()\n",
    "for filename in listdir('TrainingImages/negatives'):\n",
    "\t# load image\n",
    "\timg_data = image.imread('TrainingImages/negatives/' + filename)\n",
    "\t# store loaded image\n",
    "\tneg_loaded_images.append(img_data)\n",
    "\tprint('> loaded %s %s' % (filename, img_data.shape))\n",
    "\n",
    "pos_loaded_images = list()\n",
    "for filename in listdir('TrainingImages/positives'):\n",
    "\t# load image\n",
    "\timg_data = image.imread('TrainingImages/positives/' + filename)\n",
    "\t# store loaded image\n",
    "\tpos_loaded_images.append(img_data)\n",
    "\tprint('> loaded %s %s' % (filename, img_data.shape))\n",
    "\n",
    "\n",
    "\n",
    "\n",
    "total_images = np.array"
   ]
  },
  {
   "cell_type": "code",
   "execution_count": 17,
   "metadata": {
    "tags": [
     "outputPrepend",
     "outputPrepend",
     "outputPrepend",
     "outputPrepend",
     "outputPrepend"
    ]
   },
   "outputs": [
    {
     "output_type": "stream",
     "name": "stdout",
     "text": "(2600, 51, 51, 3)\n(308, 51, 51, 3)\n(2908, 51, 51, 3)\n"
    }
   ],
   "source": [
    "# https://machinelearningmastery.com/how-to-load-and-manipulate-images-for-deep-learning-in-python-with-pil-pillow/\n",
    "from matplotlib import pyplot\n",
    "from PIL import Image\n",
    "from numpy import asarray\n",
    "# load the image\n",
    "'''image = Image.open('opera_house.jpg')\n",
    "# convert image to numpy array\n",
    "data = asarray(image)\n",
    "# summarize shape\n",
    "print(data.shape)\n",
    "# create Pillow image\n",
    "image2 = Image.fromarray(data)\n",
    "# summarize image details\n",
    "print(image2.format)\n",
    "print(image2.mode)\n",
    "print(image2.size)\n",
    "'''\n",
    "pos_loaded_images = list()\n",
    "neg_loaded_images = list()\n",
    "\n",
    "all_images = list()\n",
    "\n",
    "for filename in listdir('TrainingImages/positives'):\n",
    "\t# load image\n",
    "\timg_data = image.imread('TrainingImages/positives/' + filename)\n",
    "\t# store loaded image\n",
    "\tpos_loaded_images.append(img_data)\n",
    "\tall_images.append(img_data)\n",
    "\t#print('> loaded %s %s' % (filename, img_data.shape))\n",
    "\n",
    "pos_data = asarray(pos_loaded_images)\n",
    "\n",
    "for filename in listdir('TrainingImages/negatives'):\n",
    "\t# load image\n",
    "\timg_data = image.imread('TrainingImages/negatives/' + filename)\n",
    "\t# store loaded image\n",
    "\tneg_loaded_images.append(img_data)\n",
    "\tall_images.append(img_data)\n",
    "\t#print('> loaded %s %s' % (filename, img_data.shape))\n",
    "\n",
    "neg_data = asarray(neg_loaded_images)\n",
    "\n",
    "all_data = asarray(all_images)\n",
    "\n",
    "print(neg_data.shape)\n",
    "print(pos_data.shape)\n",
    "print(all_data.shape)\n",
    "\n",
    "#pyplot.imshow(pos_data[2,:,:,])\n",
    "#pyplot.show()\n",
    "#pyplot.imshow(neg_data[2,:,:,])\n",
    "#pyplot.show()"
   ]
  },
  {
   "cell_type": "code",
   "execution_count": null,
   "metadata": {},
   "outputs": [],
   "source": [
    "all_images = list()\n",
    "\n",
    "for i in "
   ]
  },
  {
   "cell_type": "code",
   "execution_count": 61,
   "metadata": {},
   "outputs": [
    {
     "output_type": "error",
     "ename": "SyntaxError",
     "evalue": "invalid syntax (<ipython-input-61-c35e6220cdda>, line 8)",
     "traceback": [
      "\u001b[0;36m  File \u001b[0;32m\"<ipython-input-61-c35e6220cdda>\"\u001b[0;36m, line \u001b[0;32m8\u001b[0m\n\u001b[0;31m    z = np.concatenate((pos_data_copy, label.reshape(label), axis=0)\u001b[0m\n\u001b[0m                                                                 ^\u001b[0m\n\u001b[0;31mSyntaxError\u001b[0m\u001b[0;31m:\u001b[0m invalid syntax\n"
     ]
    }
   ],
   "source": [
    "#concatinating Data\n",
    "pos_data_copy = pos_data\n",
    "\n",
    "label = np.array([0,0,0,0,0])\n",
    "print(\"Normal data:\" , pos_data[2,:,:,])\n",
    "\n",
    "for each_number in pos_data_copy:\n",
    "    z = np.concatenate((pos_data_copy, label.reshape(label), axis=0)\n",
    "\n",
    "'''\n",
    "print(\"Concat data:\", z[2,:,:,])\n",
    "\n",
    "pyplot.imshow(pos_data_copy[2,:,:,])\n",
    "pyplot.show()'''\n",
    "\n",
    "'''\n",
    "neg_copy = neg_data\n",
    "labels = np.array([2600,0]\n",
    "for each_image in (neg_copy):\n",
    "    z = np.append(neg_copy, labels[i,:])\n",
    "\n",
    "print(z[2:,:,:,:])'''"
   ]
  },
  {
   "cell_type": "markdown",
   "metadata": {},
   "source": [
    "## Train a classifier on the samples, this may require feature extraction on the patches\n",
    "Depending on your desired apporach you may want to extract features on the training patches you have been given. These can then be used to train our desired classifier to detect the patches based not on the raw data, but on a representative feature descriptor. Several are talked about both in the lectures and labs. "
   ]
  },
  {
   "cell_type": "code",
   "execution_count": null,
   "metadata": {},
   "outputs": [],
   "source": [
    "# Extract the features - maybe, might not be needed with representation learning approaches"
   ]
  },
  {
   "cell_type": "code",
   "execution_count": null,
   "metadata": {},
   "outputs": [],
   "source": [
    "# Train a classification model to perform binary classification of the patch into whether it contains a sphere."
   ]
  },
  {
   "cell_type": "markdown",
   "metadata": {},
   "source": [
    "## Initialise our starting point in the game and get our first view into the scene\n",
    "We should start the game at a position of XYZ = [0, 0, 0] and a camera angle of [0, 0, 0]. These variables can be updated once we find a sphere, or rotated when we don't find a sphere. We can then get our first image projected to the camera plane to start our game. "
   ]
  },
  {
   "cell_type": "code",
   "execution_count": null,
   "metadata": {},
   "outputs": [],
   "source": [
    "# Initialise position and angle variable \n",
    "position = np.zeros([3])\n",
    "angle = np.zeros([3])"
   ]
  },
  {
   "cell_type": "code",
   "execution_count": null,
   "metadata": {},
   "outputs": [],
   "source": [
    "# Get the image, XYZ maps and depth map of the current viewpoint into the scene"
   ]
  },
  {
   "cell_type": "markdown",
   "metadata": {
    "scrolled": false
   },
   "source": [
    "## Perform our loop, in which we will perform pixel-wise prediction on binary class label and then perform the correct action based on detection of spheres.\n",
    "This will be the main bulk of your implementation, utilising the feature descriptors and trained models from the above cells. In each loop of the program we will want to:\n",
    "-  Get current view into the scene\n",
    "-  Extract patches from the scene\n",
    "-  Extract features on the patches\n",
    "-  Use the pretrained model to obtain class prediction probabilities\n",
    "-  Identify if a sphere has been found in the scene\n",
    "  -  If so, find the mapped XYZ location, move there and update the scene\n",
    "  -  If not, rotate the camera in a bid to find the sphere\n"
   ]
  },
  {
   "cell_type": "code",
   "execution_count": null,
   "metadata": {
    "scrolled": true
   },
   "outputs": [],
   "source": [
    "while not np.all(spheres_collected): # While there are spheres to find\n",
    "    # Get current image from viewpoint\n",
    "    \n",
    "    # Extract patches from the scene\n",
    "    \n",
    "    # Extract features from the patches\n",
    "    \n",
    "    # Predict the probability of a pixel being a sphere, based on the patch\n",
    "    \n",
    "    # Use probabilities to find sphere coordinates in 3D\n",
    "    \n",
    "    # Update camera appropriately\n",
    "    \n",
    "    # Update scene if needed"
   ]
  }
 ],
 "metadata": {
  "kernelspec": {
   "display_name": "Python 3",
   "language": "python",
   "name": "python3"
  },
  "language_info": {
   "codemirror_mode": {
    "name": "ipython",
    "version": 3
   },
   "file_extension": ".py",
   "mimetype": "text/x-python",
   "name": "python",
   "nbconvert_exporter": "python",
   "pygments_lexer": "ipython3",
   "version": "3.7.4-final"
  }
 },
 "nbformat": 4,
 "nbformat_minor": 2
}