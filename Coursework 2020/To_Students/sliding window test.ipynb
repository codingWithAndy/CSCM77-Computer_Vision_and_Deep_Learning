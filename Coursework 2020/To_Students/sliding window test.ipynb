{
 "nbformat": 4,
 "nbformat_minor": 2,
 "metadata": {
  "language_info": {
   "name": "python",
   "codemirror_mode": {
    "name": "ipython",
    "version": 3
   },
   "version": "3.7.4-final"
  },
  "orig_nbformat": 2,
  "file_extension": ".py",
  "mimetype": "text/x-python",
  "name": "python",
  "npconvert_exporter": "python",
  "pygments_lexer": "ipython3",
  "version": 3,
  "kernelspec": {
   "name": "python3",
   "display_name": "Python 3"
  }
 },
 "cells": [
  {
   "cell_type": "code",
   "execution_count": 1,
   "metadata": {},
   "outputs": [],
   "source": [
    "# import the necessary packages\n",
    "import imutils\n",
    "def pyramid(image, scale=1.5, minSize=(30, 30)):\n",
    "\t# yield the original image\n",
    "\tyield image\n",
    "\t# keep looping over the pyramid\n",
    "\twhile True:\n",
    "\t\t# compute the new dimensions of the image and resize it\n",
    "\t\tw = int(image.shape[1] / scale)\n",
    "\t\timage = imutils.resize(image, width=w)\n",
    "\t\t# if the resized image does not meet the supplied minimum\n",
    "\t\t# size, then stop constructing the pyramid\n",
    "\t\tif image.shape[0] < minSize[1] or image.shape[1] < minSize[0]:\n",
    "\t\t\tbreak\n",
    "\t\t# yield the next image in the pyramid\n",
    "\t\tyield image\n",
    "def sliding_window(image, stepSize, windowSize):\n",
    "\t# slide a window across the image\n",
    "\tfor y in range(0, image.shape[0], stepSize):\n",
    "\t\tfor x in range(0, image.shape[1], stepSize):\n",
    "\t\t\t# yield the current window\n",
    "\t\t\tyield (x, y, image[y:y + windowSize[1], x:x + windowSize[0]])"
   ]
  },
  {
   "cell_type": "code",
   "execution_count": 3,
   "metadata": {},
   "outputs": [
    {
     "output_type": "stream",
     "name": "stderr",
     "text": "usage: ipykernel_launcher.py [-h]\nipykernel_launcher.py: error: unrecognized arguments: -f /Users/Andy/Library/Jupyter/runtime/kernel-e04b4fc5-4e5f-4b54-a1c9-3179553653e9.json\n"
    },
    {
     "output_type": "error",
     "ename": "SystemExit",
     "evalue": "2",
     "traceback": [
      "An exception has occurred, use %tb to see the full traceback.\n",
      "\u001b[0;31mSystemExit\u001b[0m\u001b[0;31m:\u001b[0m 2\n"
     ]
    }
   ],
   "source": [
    "\n",
    "import argparse\n",
    "import time\n",
    "import cv2\n",
    "# construct the argument parser and parse the arguments\n",
    "ap = argparse.ArgumentParser()\n",
    "ap.add_argument(\"-i\", \"--image\", required=True, help=\"Path to the image\")\n",
    "args = vars(ap.parse_args())\n",
    "# load the image and define the window width and height\n",
    "image = cv2.imread(args[\"image\"])\n",
    "(winW, winH) = (128, 128)\n",
    "\n",
    "# loop over the image pyramid\n",
    "for resized in pyramid(image, scale=1.5):\n",
    "\t# loop over the sliding window for each layer of the pyramid\n",
    "\tfor (x, y, window) in sliding_window(resized, stepSize=32, windowSize=(winW, winH)):\n",
    "\t\t# if the window does not meet our desired window size, ignore it\n",
    "\t\tif window.shape[0] != winH or window.shape[1] != winW:\n",
    "\t\t\tcontinue\n",
    "\t\t# THIS IS WHERE YOU WOULD PROCESS YOUR WINDOW, SUCH AS APPLYING A\n",
    "\t\t# MACHINE LEARNING CLASSIFIER TO CLASSIFY THE CONTENTS OF THE\n",
    "\t\t# WINDOW\n",
    "\t\t# since we do not have a classifier, we'll just draw the window\n",
    "\t\tclone = resized.copy()\n",
    "\t\tcv2.rectangle(clone, (x, y), (x + winW, y + winH), (0, 255, 0), 2)\n",
    "\t\tcv2.imshow(\"Window\", clone)\n",
    "\t\tcv2.waitKey(1)\n",
    "\t\ttime.sleep(0.025)"
   ]
  },
  {
   "cell_type": "code",
   "execution_count": 45,
   "metadata": {},
   "outputs": [
    {
     "output_type": "stream",
     "name": "stderr",
     "text": "Clipping input data to the valid range for imshow with RGB data ([0..1] for floats or [0..255] for integers).\nClipping input data to the valid range for imshow with RGB data ([0..1] for floats or [0..255] for integers).\nClipping input data to the valid range for imshow with RGB data ([0..1] for floats or [0..255] for integers).\nClipping input data to the valid range for imshow with RGB data ([0..1] for floats or [0..255] for integers).\nClipping input data to the valid range for imshow with RGB data ([0..1] for floats or [0..255] for integers).\nClipping input data to the valid range for imshow with RGB data ([0..1] for floats or [0..255] for integers).\n(168, 300, 3)\n"
    },
    {
     "output_type": "display_data",
     "data": {
      "text/plain": "<Figure size 432x288 with 1 Axes>",
      "image/png": "[encoded data removed]"
     },
     "metadata": {
      "needs_background": "light"
     }
    },
    {
     "output_type": "stream",
     "name": "stdout",
     "text": "(0, 51, 3)\n(6,)\n[array([[[255,   0,   0],\n        [255,   0,   0],\n        [255,   0,   0],\n        ...,\n        [255,   0,   0],\n        [255,   0,   0],\n        [255,   0,   0]],\n\n       [[255,   0,   0],\n        [255,   0,   0],\n        [255,   0,   0],\n        ...,\n        [255,   0,   0],\n        [255,   0,   0],\n        [255,   0,   0]],\n\n       [[255,   0,   0],\n        [255,   0,   0],\n        [255, 255, 255],\n        ...,\n        [255, 255, 255],\n        [255, 255, 255],\n        [255,   0,   0]],\n\n       ...,\n\n       [[255,   0,   0],\n        [255,   0,   0],\n        [255, 255, 255],\n        ...,\n        [255, 255, 255],\n        [255, 255, 255],\n        [255,   0,   0]],\n\n       [[255,   0,   0],\n        [255,   0,   0],\n        [255, 255, 255],\n        ...,\n        [255, 255, 255],\n        [255, 255, 255],\n        [255,   0,   0]],\n\n       [[255,   0,   0],\n        [255,   0,   0],\n        [255,   0,   0],\n        ...,\n        [255,   0,   0],\n        [255,   0,   0],\n        [255,   0,   0]]], dtype=uint8)\n array([[[255,   0,   0],\n        [255,   0,   0],\n        [255,   0,   0],\n        ...,\n        [255,   0,   0],\n        [255,   0,   0],\n        [255,   0,   0]],\n\n       [[255,   0,   0],\n        [255,   0,   0],\n        [255,   0,   0],\n        ...,\n        [255,   0,   0],\n        [255,   0,   0],\n        [255,   0,   0]],\n\n       [[255,   0,   0],\n        [255,   0,   0],\n        [255, 255, 255],\n        ...,\n        [255, 255, 255],\n        [255, 255, 255],\n        [255,   0,   0]],\n\n       ...,\n\n       [[255,   0,   0],\n        [255,   0,   0],\n        [248, 252, 253],\n        ...,\n        [204, 228, 248],\n        [207, 233, 245],\n        [255,   0,   0]],\n\n       [[255,   0,   0],\n        [255,   0,   0],\n        [248, 255, 254],\n        ...,\n        [208, 232, 254],\n        [212, 238, 252],\n        [255,   0,   0]],\n\n       [[255,   0,   0],\n        [255,   0,   0],\n        [255,   0,   0],\n        ...,\n        [255,   0,   0],\n        [255,   0,   0],\n        [255,   0,   0]]], dtype=uint8)\n array([[[255,   0,   0],\n        [255,   0,   0],\n        [255,   0,   0],\n        ...,\n        [255,   0,   0],\n        [255,   0,   0],\n        [255,   0,   0]],\n\n       [[255,   0,   0],\n        [255,   0,   0],\n        [255,   0,   0],\n        ...,\n        [255,   0,   0],\n        [255,   0,   0],\n        [255,   0,   0]],\n\n       [[255,   0,   0],\n        [255,   0,   0],\n        [255, 255, 255],\n        ...,\n        [255, 255, 255],\n        [255, 255, 255],\n        [255,   0,   0]],\n\n       ...,\n\n       [[255,   0,   0],\n        [255,   0,   0],\n        [255, 255, 255],\n        ...,\n        [255, 255, 255],\n        [255, 255, 255],\n        [255,   0,   0]],\n\n       [[255,   0,   0],\n        [255,   0,   0],\n        [255, 255, 255],\n        ...,\n        [255, 255, 255],\n        [255, 255, 255],\n        [255,   0,   0]],\n\n       [[255,   0,   0],\n        [255,   0,   0],\n        [255,   0,   0],\n        ...,\n        [255,   0,   0],\n        [255,   0,   0],\n        [255,   0,   0]]], dtype=uint8)\n array([[[255,   0,   0],\n        [255,   0,   0],\n        [255,   0,   0],\n        ...,\n        [255,   0,   0],\n        [255,   0,   0],\n        [255,   0,   0]],\n\n       [[255,   0,   0],\n        [255,   0,   0],\n        [255,   0,   0],\n        ...,\n        [255,   0,   0],\n        [255,   0,   0],\n        [255,   0,   0]],\n\n       [[255,   0,   0],\n        [255,   0,   0],\n        [165, 135, 116],\n        ...,\n        [229,  96,   0],\n        [231,  98,   0],\n        [255,   0,   0]],\n\n       ...,\n\n       [[255,   0,   0],\n        [255,   0,   0],\n        [255, 255, 255],\n        ...,\n        [255, 255, 255],\n        [255, 255, 255],\n        [255,   0,   0]],\n\n       [[255,   0,   0],\n        [255,   0,   0],\n        [255, 255, 255],\n        ...,\n        [255, 255, 255],\n        [255, 255, 255],\n        [255,   0,   0]],\n\n       [[255,   0,   0],\n        [255,   0,   0],\n        [255,   0,   0],\n        ...,\n        [255,   0,   0],\n        [255,   0,   0],\n        [255,   0,   0]]], dtype=uint8)\n array([], shape=(0, 51, 3), dtype=uint8)\n array([], shape=(0, 51, 3), dtype=uint8)]\n"
    },
    {
     "output_type": "execute_result",
     "data": {
      "text/plain": "'\\n\\n\\nimage, start_point, end_point, color, thickness\\nplt.imshow(cv2.cvtColor(X_train[i], cv2.COLOR_BGR2RGB))\\n'"
     },
     "metadata": {},
     "execution_count": 45
    }
   ],
   "source": [
    "import cv2\n",
    "import matplotlib.pyplot as plt\n",
    "import numpy as np\n",
    "from numpy import asarray\n",
    "windowarr = []\n",
    "# read the image and define the stepSize and window size \n",
    "# (width,height)\n",
    "image = cv2.imread(\"mario.jpeg\") # your image path\n",
    "print(image.shape)\n",
    "tmp = image # for drawing a rectangle\n",
    "stepSize = 100\n",
    "(w_width, w_height) = (51, 51) # window size\n",
    "for x in range(0, image.shape[1] - w_width , stepSize):\n",
    "    for y in range(0, image.shape[0] - w_height, stepSize):\n",
    "       window = image[x:x + w_width, y:y + w_height, :]\n",
    "       windowarr.append(window)\n",
    "       cv2.rectangle(tmp, (x, y), (x + w_width, y + w_height), (255, 0, 0), 2) # draw rectangle on image\n",
    "       plt.imshow(cv2.cvtColor(np.array(tmp.astype('float32')), cv2.COLOR_BGR2RGB))\n",
    "plt.show()\n",
    "print(window.shape)\n",
    "windowarr = asarray(windowarr)\n",
    "print(windowarr.shape)\n",
    "print(windowarr)\n",
    "\n",
    "\n",
    "#plt.imshow(window)\n",
    "\n",
    "'''\n",
    "\n",
    "\n",
    "image, start_point, end_point, color, thickness\n",
    "plt.imshow(cv2.cvtColor(X_train[i], cv2.COLOR_BGR2RGB))\n",
    "'''"
   ]
  },
  {
   "cell_type": "code",
   "execution_count": 17,
   "metadata": {},
   "outputs": [
    {
     "output_type": "stream",
     "name": "stdout",
     "text": "[[[255   0   0]\n  [255   0   0]\n  [255   0   0]\n  ...\n  [255 255 255]\n  [255 255 255]\n  [255 255 255]]\n\n [[255   0   0]\n  [255   0   0]\n  [255   0   0]\n  ...\n  [255 255 255]\n  [255 255 255]\n  [255 255 255]]\n\n [[255   0   0]\n  [255   0   0]\n  [255 255 255]\n  ...\n  [255 255 255]\n  [255 255 255]\n  [255 255 255]]\n\n ...\n\n [[255 255 255]\n  [255 255 255]\n  [255 255 255]\n  ...\n  [255 255 255]\n  [255 255 255]\n  [255 255 255]]\n\n [[255 255 255]\n  [255 255 255]\n  [255 255 255]\n  ...\n  [255 255 255]\n  [255 255 255]\n  [255 255 255]]\n\n [[255 255 255]\n  [255 255 255]\n  [255 255 255]\n  ...\n  [255 255 255]\n  [255 255 255]\n  [255 255 255]]]\n"
    }
   ],
   "source": [
    "print(tmp)"
   ]
  },
  {
   "cell_type": "code",
   "execution_count": null,
   "metadata": {},
   "outputs": [],
   "source": []
  }
 ]
}